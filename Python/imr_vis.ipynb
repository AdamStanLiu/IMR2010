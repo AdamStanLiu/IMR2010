{
 "cells": [
  {
   "cell_type": "markdown",
   "metadata": {},
   "source": [
    "### Import googlemaps package and login with the key"
   ]
  },
  {
   "cell_type": "code",
   "execution_count": 1,
   "metadata": {
    "collapsed": true
   },
   "outputs": [],
   "source": [
    "import googlemaps"
   ]
  },
  {
   "cell_type": "code",
   "execution_count": 2,
   "metadata": {
    "collapsed": true
   },
   "outputs": [],
   "source": [
    "gomaps = googlemaps.Client(key='AI...')"
   ]
  },
  {
   "cell_type": "markdown",
   "metadata": {},
   "source": [
    "### Check the result and data type"
   ]
  },
  {
   "cell_type": "code",
   "execution_count": 3,
   "metadata": {
    "collapsed": true
   },
   "outputs": [],
   "source": [
    "geocode_result = gomaps.geocode('China')"
   ]
  },
  {
   "cell_type": "code",
   "execution_count": 4,
   "metadata": {},
   "outputs": [
    {
     "data": {
      "text/plain": [
       "[{'address_components': [{'long_name': 'China',\n",
       "    'short_name': 'CN',\n",
       "    'types': ['country', 'political']}],\n",
       "  'formatted_address': 'China',\n",
       "  'geometry': {'bounds': {'northeast': {'lat': 53.56097399999999,\n",
       "     'lng': 134.7728099},\n",
       "    'southwest': {'lat': 17.9996, 'lng': 73.4994136}},\n",
       "   'location': {'lat': 35.86166, 'lng': 104.195397},\n",
       "   'location_type': 'APPROXIMATE',\n",
       "   'viewport': {'northeast': {'lat': 53.56097399999999, 'lng': 134.7726951},\n",
       "    'southwest': {'lat': 18.1618062, 'lng': 73.5034261}}},\n",
       "  'place_id': 'ChIJwULG5WSOUDERbzafNHyqHZU',\n",
       "  'types': ['country', 'political']}]"
      ]
     },
     "execution_count": 4,
     "metadata": {},
     "output_type": "execute_result"
    }
   ],
   "source": [
    "geocode_result"
   ]
  },
  {
   "cell_type": "markdown",
   "metadata": {},
   "source": [
    "### Import IMR data"
   ]
  },
  {
   "cell_type": "code",
   "execution_count": 2,
   "metadata": {
    "collapsed": true
   },
   "outputs": [],
   "source": [
    "import pandas as pd\n",
    "import numpy as np "
   ]
  },
  {
   "cell_type": "code",
   "execution_count": 3,
   "metadata": {
    "collapsed": true
   },
   "outputs": [],
   "source": [
    "IMR = pd.read_csv('IMR.csv',encoding = \"ISO-8859-1\")"
   ]
  },
  {
   "cell_type": "code",
   "execution_count": 7,
   "metadata": {},
   "outputs": [
    {
     "data": {
      "text/html": [
       "<div>\n",
       "<table border=\"1\" class=\"dataframe\">\n",
       "  <thead>\n",
       "    <tr style=\"text-align: right;\">\n",
       "      <th></th>\n",
       "      <th>Area</th>\n",
       "      <th>Time Period</th>\n",
       "      <th>Data Value</th>\n",
       "    </tr>\n",
       "  </thead>\n",
       "  <tbody>\n",
       "    <tr>\n",
       "      <th>0</th>\n",
       "      <td>Afghanistan</td>\n",
       "      <td>2010</td>\n",
       "      <td>103</td>\n",
       "    </tr>\n",
       "    <tr>\n",
       "      <th>1</th>\n",
       "      <td>Angola</td>\n",
       "      <td>2010</td>\n",
       "      <td>98</td>\n",
       "    </tr>\n",
       "    <tr>\n",
       "      <th>2</th>\n",
       "      <td>Albania</td>\n",
       "      <td>2010</td>\n",
       "      <td>16</td>\n",
       "    </tr>\n",
       "    <tr>\n",
       "      <th>3</th>\n",
       "      <td>Andorra</td>\n",
       "      <td>2010</td>\n",
       "      <td>3</td>\n",
       "    </tr>\n",
       "    <tr>\n",
       "      <th>4</th>\n",
       "      <td>United Arab Emirates</td>\n",
       "      <td>2010</td>\n",
       "      <td>6</td>\n",
       "    </tr>\n",
       "  </tbody>\n",
       "</table>\n",
       "</div>"
      ],
      "text/plain": [
       "                   Area  Time Period  Data Value\n",
       "0           Afghanistan         2010         103\n",
       "1                Angola         2010          98\n",
       "2               Albania         2010          16\n",
       "3               Andorra         2010           3\n",
       "4  United Arab Emirates         2010           6"
      ]
     },
     "execution_count": 7,
     "metadata": {},
     "output_type": "execute_result"
    }
   ],
   "source": [
    "IMR[:5]"
   ]
  },
  {
   "cell_type": "code",
   "execution_count": 8,
   "metadata": {},
   "outputs": [
    {
     "data": {
      "text/plain": [
       "195"
      ]
     },
     "execution_count": 8,
     "metadata": {},
     "output_type": "execute_result"
    }
   ],
   "source": [
    "len(IMR['Area'])"
   ]
  },
  {
   "cell_type": "markdown",
   "metadata": {},
   "source": [
    "### Extract the latitude and longitude from googlemaps"
   ]
  },
  {
   "cell_type": "code",
   "execution_count": 9,
   "metadata": {
    "collapsed": true
   },
   "outputs": [],
   "source": [
    "lat = []\n",
    "lng = []"
   ]
  },
  {
   "cell_type": "code",
   "execution_count": 10,
   "metadata": {
    "collapsed": true
   },
   "outputs": [],
   "source": [
    "for i in range(len(IMR['Area'])):\n",
    "    gm_re = gomaps.geocode(IMR['Area'][i])\n",
    "    lat.append(gm_re[0]['geometry']['location']['lat'])\n",
    "    lng.append(gm_re[0]['geometry']['location']['lng'])    "
   ]
  },
  {
   "cell_type": "code",
   "execution_count": 11,
   "metadata": {},
   "outputs": [
    {
     "data": {
      "text/plain": [
       "195"
      ]
     },
     "execution_count": 11,
     "metadata": {},
     "output_type": "execute_result"
    }
   ],
   "source": [
    "len(lng)"
   ]
  },
  {
   "cell_type": "markdown",
   "metadata": {},
   "source": [
    "### Write geoinfomation data for Tableau drawing the maps"
   ]
  },
  {
   "cell_type": "code",
   "execution_count": 12,
   "metadata": {
    "collapsed": true
   },
   "outputs": [],
   "source": [
    "country = list(IMR['Area'])"
   ]
  },
  {
   "cell_type": "code",
   "execution_count": 13,
   "metadata": {
    "collapsed": true
   },
   "outputs": [],
   "source": [
    "col=['Country','Latitude','Longitude']"
   ]
  },
  {
   "cell_type": "code",
   "execution_count": 14,
   "metadata": {
    "collapsed": true
   },
   "outputs": [],
   "source": [
    "geoinf = pd.DataFrame([country,lat,lng], col)\n",
    "geoinf = geoinf.transpose()"
   ]
  },
  {
   "cell_type": "code",
   "execution_count": 15,
   "metadata": {},
   "outputs": [
    {
     "data": {
      "text/html": [
       "<div>\n",
       "<table border=\"1\" class=\"dataframe\">\n",
       "  <thead>\n",
       "    <tr style=\"text-align: right;\">\n",
       "      <th></th>\n",
       "      <th>Country</th>\n",
       "      <th>Latitude</th>\n",
       "      <th>Longitude</th>\n",
       "    </tr>\n",
       "  </thead>\n",
       "  <tbody>\n",
       "    <tr>\n",
       "      <th>0</th>\n",
       "      <td>Afghanistan</td>\n",
       "      <td>33.9391</td>\n",
       "      <td>67.71</td>\n",
       "    </tr>\n",
       "    <tr>\n",
       "      <th>1</th>\n",
       "      <td>Angola</td>\n",
       "      <td>-11.2027</td>\n",
       "      <td>17.8739</td>\n",
       "    </tr>\n",
       "    <tr>\n",
       "      <th>2</th>\n",
       "      <td>Albania</td>\n",
       "      <td>41.1533</td>\n",
       "      <td>20.1683</td>\n",
       "    </tr>\n",
       "    <tr>\n",
       "      <th>3</th>\n",
       "      <td>Andorra</td>\n",
       "      <td>42.5063</td>\n",
       "      <td>1.5218</td>\n",
       "    </tr>\n",
       "    <tr>\n",
       "      <th>4</th>\n",
       "      <td>United Arab Emirates</td>\n",
       "      <td>23.4241</td>\n",
       "      <td>53.8478</td>\n",
       "    </tr>\n",
       "    <tr>\n",
       "      <th>5</th>\n",
       "      <td>Argentina</td>\n",
       "      <td>-38.4161</td>\n",
       "      <td>-63.6167</td>\n",
       "    </tr>\n",
       "    <tr>\n",
       "      <th>6</th>\n",
       "      <td>Armenia</td>\n",
       "      <td>40.0691</td>\n",
       "      <td>45.0382</td>\n",
       "    </tr>\n",
       "    <tr>\n",
       "      <th>7</th>\n",
       "      <td>Antigua and Barbuda</td>\n",
       "      <td>17.0608</td>\n",
       "      <td>-61.7964</td>\n",
       "    </tr>\n",
       "    <tr>\n",
       "      <th>8</th>\n",
       "      <td>Australia</td>\n",
       "      <td>-25.2744</td>\n",
       "      <td>133.775</td>\n",
       "    </tr>\n",
       "    <tr>\n",
       "      <th>9</th>\n",
       "      <td>Austria</td>\n",
       "      <td>47.5162</td>\n",
       "      <td>14.5501</td>\n",
       "    </tr>\n",
       "    <tr>\n",
       "      <th>10</th>\n",
       "      <td>Azerbaijan</td>\n",
       "      <td>40.1431</td>\n",
       "      <td>47.5769</td>\n",
       "    </tr>\n",
       "    <tr>\n",
       "      <th>11</th>\n",
       "      <td>Burundi</td>\n",
       "      <td>-3.37306</td>\n",
       "      <td>29.9189</td>\n",
       "    </tr>\n",
       "    <tr>\n",
       "      <th>12</th>\n",
       "      <td>Belgium</td>\n",
       "      <td>50.5039</td>\n",
       "      <td>4.46994</td>\n",
       "    </tr>\n",
       "    <tr>\n",
       "      <th>13</th>\n",
       "      <td>Benin</td>\n",
       "      <td>9.30769</td>\n",
       "      <td>2.31583</td>\n",
       "    </tr>\n",
       "    <tr>\n",
       "      <th>14</th>\n",
       "      <td>Burkina Faso</td>\n",
       "      <td>12.2383</td>\n",
       "      <td>-1.56159</td>\n",
       "    </tr>\n",
       "    <tr>\n",
       "      <th>15</th>\n",
       "      <td>Bangladesh</td>\n",
       "      <td>23.685</td>\n",
       "      <td>90.3563</td>\n",
       "    </tr>\n",
       "    <tr>\n",
       "      <th>16</th>\n",
       "      <td>Bulgaria</td>\n",
       "      <td>42.7339</td>\n",
       "      <td>25.4858</td>\n",
       "    </tr>\n",
       "    <tr>\n",
       "      <th>17</th>\n",
       "      <td>Bahrain</td>\n",
       "      <td>26.0667</td>\n",
       "      <td>50.5577</td>\n",
       "    </tr>\n",
       "    <tr>\n",
       "      <th>18</th>\n",
       "      <td>Bahamas</td>\n",
       "      <td>25.0343</td>\n",
       "      <td>-77.3963</td>\n",
       "    </tr>\n",
       "    <tr>\n",
       "      <th>19</th>\n",
       "      <td>Bosnia and Herzegovina</td>\n",
       "      <td>43.9159</td>\n",
       "      <td>17.6791</td>\n",
       "    </tr>\n",
       "    <tr>\n",
       "      <th>20</th>\n",
       "      <td>Belarus</td>\n",
       "      <td>53.7098</td>\n",
       "      <td>27.9534</td>\n",
       "    </tr>\n",
       "    <tr>\n",
       "      <th>21</th>\n",
       "      <td>Belize</td>\n",
       "      <td>17.1899</td>\n",
       "      <td>-88.4976</td>\n",
       "    </tr>\n",
       "    <tr>\n",
       "      <th>22</th>\n",
       "      <td>Bolivia (Plurinational State of)</td>\n",
       "      <td>-16.2902</td>\n",
       "      <td>-63.5887</td>\n",
       "    </tr>\n",
       "    <tr>\n",
       "      <th>23</th>\n",
       "      <td>Brazil</td>\n",
       "      <td>-14.235</td>\n",
       "      <td>-51.9253</td>\n",
       "    </tr>\n",
       "    <tr>\n",
       "      <th>24</th>\n",
       "      <td>Barbados</td>\n",
       "      <td>13.1939</td>\n",
       "      <td>-59.5432</td>\n",
       "    </tr>\n",
       "    <tr>\n",
       "      <th>25</th>\n",
       "      <td>Brunei Darussalam</td>\n",
       "      <td>4.53528</td>\n",
       "      <td>114.728</td>\n",
       "    </tr>\n",
       "    <tr>\n",
       "      <th>26</th>\n",
       "      <td>Bhutan</td>\n",
       "      <td>27.5142</td>\n",
       "      <td>90.4336</td>\n",
       "    </tr>\n",
       "    <tr>\n",
       "      <th>27</th>\n",
       "      <td>Botswana</td>\n",
       "      <td>-22.3285</td>\n",
       "      <td>24.6849</td>\n",
       "    </tr>\n",
       "    <tr>\n",
       "      <th>28</th>\n",
       "      <td>Central African Republic</td>\n",
       "      <td>6.61111</td>\n",
       "      <td>20.9394</td>\n",
       "    </tr>\n",
       "    <tr>\n",
       "      <th>29</th>\n",
       "      <td>Canada</td>\n",
       "      <td>56.1304</td>\n",
       "      <td>-106.347</td>\n",
       "    </tr>\n",
       "    <tr>\n",
       "      <th>...</th>\n",
       "      <td>...</td>\n",
       "      <td>...</td>\n",
       "      <td>...</td>\n",
       "    </tr>\n",
       "    <tr>\n",
       "      <th>165</th>\n",
       "      <td>Sweden</td>\n",
       "      <td>60.1282</td>\n",
       "      <td>18.6435</td>\n",
       "    </tr>\n",
       "    <tr>\n",
       "      <th>166</th>\n",
       "      <td>Swaziland</td>\n",
       "      <td>-26.5225</td>\n",
       "      <td>31.4659</td>\n",
       "    </tr>\n",
       "    <tr>\n",
       "      <th>167</th>\n",
       "      <td>Seychelles</td>\n",
       "      <td>-4.67957</td>\n",
       "      <td>55.492</td>\n",
       "    </tr>\n",
       "    <tr>\n",
       "      <th>168</th>\n",
       "      <td>Syrian Arab Republic</td>\n",
       "      <td>34.8021</td>\n",
       "      <td>38.9968</td>\n",
       "    </tr>\n",
       "    <tr>\n",
       "      <th>169</th>\n",
       "      <td>Chad</td>\n",
       "      <td>15.4542</td>\n",
       "      <td>18.7322</td>\n",
       "    </tr>\n",
       "    <tr>\n",
       "      <th>170</th>\n",
       "      <td>Togo</td>\n",
       "      <td>8.61954</td>\n",
       "      <td>0.824782</td>\n",
       "    </tr>\n",
       "    <tr>\n",
       "      <th>171</th>\n",
       "      <td>Thailand</td>\n",
       "      <td>15.87</td>\n",
       "      <td>100.993</td>\n",
       "    </tr>\n",
       "    <tr>\n",
       "      <th>172</th>\n",
       "      <td>Tajikistan</td>\n",
       "      <td>38.861</td>\n",
       "      <td>71.2761</td>\n",
       "    </tr>\n",
       "    <tr>\n",
       "      <th>173</th>\n",
       "      <td>Turkmenistan</td>\n",
       "      <td>38.9697</td>\n",
       "      <td>59.5563</td>\n",
       "    </tr>\n",
       "    <tr>\n",
       "      <th>174</th>\n",
       "      <td>Timor-Leste</td>\n",
       "      <td>-8.87422</td>\n",
       "      <td>125.728</td>\n",
       "    </tr>\n",
       "    <tr>\n",
       "      <th>175</th>\n",
       "      <td>Tonga</td>\n",
       "      <td>-21.179</td>\n",
       "      <td>-175.198</td>\n",
       "    </tr>\n",
       "    <tr>\n",
       "      <th>176</th>\n",
       "      <td>Trinidad and Tobago</td>\n",
       "      <td>10.6918</td>\n",
       "      <td>-61.2225</td>\n",
       "    </tr>\n",
       "    <tr>\n",
       "      <th>177</th>\n",
       "      <td>Tunisia</td>\n",
       "      <td>33.8869</td>\n",
       "      <td>9.5375</td>\n",
       "    </tr>\n",
       "    <tr>\n",
       "      <th>178</th>\n",
       "      <td>Turkey</td>\n",
       "      <td>38.9637</td>\n",
       "      <td>35.2433</td>\n",
       "    </tr>\n",
       "    <tr>\n",
       "      <th>179</th>\n",
       "      <td>Tuvalu</td>\n",
       "      <td>-7.47842</td>\n",
       "      <td>178.68</td>\n",
       "    </tr>\n",
       "    <tr>\n",
       "      <th>180</th>\n",
       "      <td>United Republic of Tanzania</td>\n",
       "      <td>-6.36903</td>\n",
       "      <td>34.8888</td>\n",
       "    </tr>\n",
       "    <tr>\n",
       "      <th>181</th>\n",
       "      <td>Uganda</td>\n",
       "      <td>1.37333</td>\n",
       "      <td>32.2903</td>\n",
       "    </tr>\n",
       "    <tr>\n",
       "      <th>182</th>\n",
       "      <td>Ukraine</td>\n",
       "      <td>48.3794</td>\n",
       "      <td>31.1656</td>\n",
       "    </tr>\n",
       "    <tr>\n",
       "      <th>183</th>\n",
       "      <td>Uruguay</td>\n",
       "      <td>-32.5228</td>\n",
       "      <td>-55.7658</td>\n",
       "    </tr>\n",
       "    <tr>\n",
       "      <th>184</th>\n",
       "      <td>United States</td>\n",
       "      <td>37.0902</td>\n",
       "      <td>-95.7129</td>\n",
       "    </tr>\n",
       "    <tr>\n",
       "      <th>185</th>\n",
       "      <td>Uzbekistan</td>\n",
       "      <td>41.3775</td>\n",
       "      <td>64.5853</td>\n",
       "    </tr>\n",
       "    <tr>\n",
       "      <th>186</th>\n",
       "      <td>Saint Vincent and the Grenadines</td>\n",
       "      <td>13.2528</td>\n",
       "      <td>-61.1971</td>\n",
       "    </tr>\n",
       "    <tr>\n",
       "      <th>187</th>\n",
       "      <td>Venezuela (Bolivarian Republic of)</td>\n",
       "      <td>6.42375</td>\n",
       "      <td>-66.5897</td>\n",
       "    </tr>\n",
       "    <tr>\n",
       "      <th>188</th>\n",
       "      <td>Viet Nam</td>\n",
       "      <td>14.0583</td>\n",
       "      <td>108.277</td>\n",
       "    </tr>\n",
       "    <tr>\n",
       "      <th>189</th>\n",
       "      <td>Vanuatu</td>\n",
       "      <td>-15.3767</td>\n",
       "      <td>166.959</td>\n",
       "    </tr>\n",
       "    <tr>\n",
       "      <th>190</th>\n",
       "      <td>Samoa</td>\n",
       "      <td>-13.759</td>\n",
       "      <td>-172.105</td>\n",
       "    </tr>\n",
       "    <tr>\n",
       "      <th>191</th>\n",
       "      <td>Yemen</td>\n",
       "      <td>15.5527</td>\n",
       "      <td>48.5164</td>\n",
       "    </tr>\n",
       "    <tr>\n",
       "      <th>192</th>\n",
       "      <td>South Africa</td>\n",
       "      <td>-30.5595</td>\n",
       "      <td>22.9375</td>\n",
       "    </tr>\n",
       "    <tr>\n",
       "      <th>193</th>\n",
       "      <td>Zambia</td>\n",
       "      <td>-13.1339</td>\n",
       "      <td>27.8493</td>\n",
       "    </tr>\n",
       "    <tr>\n",
       "      <th>194</th>\n",
       "      <td>Zimbabwe</td>\n",
       "      <td>-19.0154</td>\n",
       "      <td>29.1549</td>\n",
       "    </tr>\n",
       "  </tbody>\n",
       "</table>\n",
       "<p>195 rows × 3 columns</p>\n",
       "</div>"
      ],
      "text/plain": [
       "                                Country Latitude Longitude\n",
       "0                           Afghanistan  33.9391     67.71\n",
       "1                                Angola -11.2027   17.8739\n",
       "2                               Albania  41.1533   20.1683\n",
       "3                               Andorra  42.5063    1.5218\n",
       "4                  United Arab Emirates  23.4241   53.8478\n",
       "5                             Argentina -38.4161  -63.6167\n",
       "6                               Armenia  40.0691   45.0382\n",
       "7                   Antigua and Barbuda  17.0608  -61.7964\n",
       "8                             Australia -25.2744   133.775\n",
       "9                               Austria  47.5162   14.5501\n",
       "10                           Azerbaijan  40.1431   47.5769\n",
       "11                              Burundi -3.37306   29.9189\n",
       "12                              Belgium  50.5039   4.46994\n",
       "13                                Benin  9.30769   2.31583\n",
       "14                         Burkina Faso  12.2383  -1.56159\n",
       "15                           Bangladesh   23.685   90.3563\n",
       "16                             Bulgaria  42.7339   25.4858\n",
       "17                              Bahrain  26.0667   50.5577\n",
       "18                              Bahamas  25.0343  -77.3963\n",
       "19               Bosnia and Herzegovina  43.9159   17.6791\n",
       "20                              Belarus  53.7098   27.9534\n",
       "21                               Belize  17.1899  -88.4976\n",
       "22     Bolivia (Plurinational State of) -16.2902  -63.5887\n",
       "23                               Brazil  -14.235  -51.9253\n",
       "24                             Barbados  13.1939  -59.5432\n",
       "25                    Brunei Darussalam  4.53528   114.728\n",
       "26                               Bhutan  27.5142   90.4336\n",
       "27                             Botswana -22.3285   24.6849\n",
       "28             Central African Republic  6.61111   20.9394\n",
       "29                               Canada  56.1304  -106.347\n",
       "..                                  ...      ...       ...\n",
       "165                              Sweden  60.1282   18.6435\n",
       "166                           Swaziland -26.5225   31.4659\n",
       "167                          Seychelles -4.67957    55.492\n",
       "168                Syrian Arab Republic  34.8021   38.9968\n",
       "169                                Chad  15.4542   18.7322\n",
       "170                                Togo  8.61954  0.824782\n",
       "171                            Thailand    15.87   100.993\n",
       "172                          Tajikistan   38.861   71.2761\n",
       "173                        Turkmenistan  38.9697   59.5563\n",
       "174                         Timor-Leste -8.87422   125.728\n",
       "175                               Tonga  -21.179  -175.198\n",
       "176                 Trinidad and Tobago  10.6918  -61.2225\n",
       "177                             Tunisia  33.8869    9.5375\n",
       "178                              Turkey  38.9637   35.2433\n",
       "179                              Tuvalu -7.47842    178.68\n",
       "180         United Republic of Tanzania -6.36903   34.8888\n",
       "181                              Uganda  1.37333   32.2903\n",
       "182                             Ukraine  48.3794   31.1656\n",
       "183                             Uruguay -32.5228  -55.7658\n",
       "184                       United States  37.0902  -95.7129\n",
       "185                          Uzbekistan  41.3775   64.5853\n",
       "186    Saint Vincent and the Grenadines  13.2528  -61.1971\n",
       "187  Venezuela (Bolivarian Republic of)  6.42375  -66.5897\n",
       "188                            Viet Nam  14.0583   108.277\n",
       "189                             Vanuatu -15.3767   166.959\n",
       "190                               Samoa  -13.759  -172.105\n",
       "191                               Yemen  15.5527   48.5164\n",
       "192                        South Africa -30.5595   22.9375\n",
       "193                              Zambia -13.1339   27.8493\n",
       "194                            Zimbabwe -19.0154   29.1549\n",
       "\n",
       "[195 rows x 3 columns]"
      ]
     },
     "execution_count": 15,
     "metadata": {},
     "output_type": "execute_result"
    }
   ],
   "source": [
    "geoinf"
   ]
  },
  {
   "cell_type": "code",
   "execution_count": 16,
   "metadata": {
    "collapsed": true
   },
   "outputs": [],
   "source": [
    "geoinf.to_csv('geoinf.csv')"
   ]
  },
  {
   "cell_type": "markdown",
   "metadata": {},
   "source": [
    "### Or use gmaps package to plot in jupyter"
   ]
  },
  {
   "cell_type": "code",
   "execution_count": 4,
   "metadata": {
    "collapsed": true
   },
   "outputs": [],
   "source": [
    "from matplotlib.cm import viridis\n",
    "from matplotlib.colors import to_hex\n",
    "\n",
    "import gmaps\n",
    "import gmaps.geojson_geometries"
   ]
  },
  {
   "cell_type": "code",
   "execution_count": 5,
   "metadata": {
    "collapsed": true
   },
   "outputs": [],
   "source": [
    "gmaps.configure(api_key=\"AI...\")"
   ]
  },
  {
   "cell_type": "code",
   "execution_count": 6,
   "metadata": {
    "collapsed": true
   },
   "outputs": [],
   "source": [
    "# load geojson\n",
    "countries_geojson = gmaps.geojson_geometries.load_geometry('countries')"
   ]
  },
  {
   "cell_type": "code",
   "execution_count": 7,
   "metadata": {
    "collapsed": true
   },
   "outputs": [],
   "source": [
    "imr_max = max(IMR['Data Value'])\n",
    "imr_min = min(IMR['Data Value'])\n",
    "imr_range = imr_max - imr_min"
   ]
  },
  {
   "cell_type": "code",
   "execution_count": 8,
   "metadata": {
    "collapsed": true
   },
   "outputs": [],
   "source": [
    "def calc_color(imr):\n",
    "    norm_imr = (imr - imr_min) / imr_range\n",
    "    inv_imr = 1.0 - norm_imr\n",
    "    mpl_color = viridis(inv_imr)\n",
    "    gmaps_color = to_hex(mpl_color, keep_alpha=False)\n",
    "    return gmaps_color"
   ]
  },
  {
   "cell_type": "code",
   "execution_count": 9,
   "metadata": {
    "collapsed": true
   },
   "outputs": [],
   "source": [
    "colors = []\n",
    "for feature in countries_geojson['features']:\n",
    "    country_name = feature['properties']['name']\n",
    "    try:\n",
    "        if(len(IMR.loc[IMR['Area'] == country_name]['Data Value'])):\n",
    "            imr = int(IMR.loc[IMR['Area'] == country_name]['Data Value'])\n",
    "            color = calc_color(imr)\n",
    "    except KeyError:\n",
    "        # no IMR for that country: return default color\n",
    "        color = (0, 0, 0, 0.3)\n",
    "    colors.append(color)"
   ]
  },
  {
   "cell_type": "code",
   "execution_count": 10,
   "metadata": {
    "collapsed": true
   },
   "outputs": [],
   "source": [
    "fig = gmaps.figure()\n",
    "imr_layer = gmaps.geojson_layer(countries_geojson, \n",
    "                                fill_color=colors, \n",
    "                                stroke_color=colors,\n",
    "                                fill_opacity=0.8)\n",
    "fig.add_layer(imr_layer)"
   ]
  },
  {
   "cell_type": "code",
   "execution_count": 11,
   "metadata": {},
   "outputs": [
    {
     "data": {
      "application/vnd.jupyter.widget-view+json": {
       "model_id": "590d47b5ceb84261870987a33c8f25f8"
      }
     },
     "metadata": {},
     "output_type": "display_data"
    }
   ],
   "source": [
    "fig"
   ]
  },
  {
   "cell_type": "code",
   "execution_count": null,
   "metadata": {
    "collapsed": true
   },
   "outputs": [],
   "source": []
  }
 ],
 "metadata": {
  "anaconda-cloud": {},
  "kernelspec": {
   "display_name": "Python [conda root]",
   "language": "python",
   "name": "conda-root-py"
  },
  "language_info": {
   "codemirror_mode": {
    "name": "ipython",
    "version": 3
   },
   "file_extension": ".py",
   "mimetype": "text/x-python",
   "name": "python",
   "nbconvert_exporter": "python",
   "pygments_lexer": "ipython3",
   "version": "3.5.2"
  }
 },
 "nbformat": 4,
 "nbformat_minor": 2
}
